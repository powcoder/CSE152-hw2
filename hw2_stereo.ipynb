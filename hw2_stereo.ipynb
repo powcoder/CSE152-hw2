{
 "cells": [
  {
   "cell_type": "markdown",
   "metadata": {},
   "source": [
    "# Disparity from Stereo Pair Images\n",
    "In this problem, we will implement SSD (Sum Squared Distance) and NCC (Normalized Cross Correlation) and use them to calculate disparity from stero pair images."
   ]
  },
  {
   "cell_type": "code",
   "execution_count": null,
   "metadata": {},
   "outputs": [],
   "source": [
    "import numpy as np\n",
    "import cv2\n",
    "import matplotlib.pyplot as plt\n",
    "import math"
   ]
  },
  {
   "cell_type": "markdown",
   "metadata": {},
   "source": [
    "## 1. SSD (Sum Squared Distance) and NCC (Normalized Cross-Correlation) Matching\n",
    "In this part, you have to write two functions $\\textit{ssd_match}$ and $\\textit{ncc_match}$ that implement the computation of the matching score for two given windows with SSD and NCC metrics respectively.\n",
    "\n",
    "### 1.1 SSD (Sum Squared Distance) Matching [2.5 pts]\n",
    "SSD = $\\sum_{x,y}|W_1(x,y)-W_2(x,y)|^2$"
   ]
  },
  {
   "cell_type": "code",
   "execution_count": null,
   "metadata": {
    "scrolled": true
   },
   "outputs": [],
   "source": [
    "def ssdMatch(img1, img2, c1, c2, R):\n",
    "    \"\"\"Compute NCC given two windows.\n",
    "\n",
    "    Args:\n",
    "        img1: Image 1.\n",
    "        img2: Image 2.\n",
    "        c1: Center (in image coordinate) of the window in image 1.\n",
    "        c2: Center (in image coordinate) of the window in image 2.\n",
    "        R: R is the radius of the patch, 2 * R + 1 is the window size\n",
    "\n",
    "    Returns:\n",
    "        matching_score: SSD matching score for two input windows.\n",
    "\n",
    "    \"\"\"\n",
    "    #-------------------------------------#\n",
    "    #         WRITE YOUR CODE HERE        #\n",
    "    #-------------------------------------#\n",
    "    return matching_score\n",
    "\n",
    "# Here is the code for you to test your implementation\n",
    "img1 = np.array([[1, 2, 3, 4], [4, 5, 6, 8], [7, 8, 9, 4]])\n",
    "img2 = np.array([[1, 2, 1, 3], [6, 5, 4, 4], [9, 8, 7, 3]])\n",
    "print(ssdMatch(img1, img2, np.array([1, 1]), np.array([1, 1]), 1))\n",
    "# should print 20\n",
    "print(ssdMatch(img1, img2, np.array([2, 1]), np.array([2, 1]), 1))\n",
    "# should print 30\n",
    "print(ssdMatch(img1, img2, np.array([1, 1]), np.array([2, 1]), 1))\n",
    "# should print 46"
   ]
  },
  {
   "cell_type": "markdown",
   "metadata": {},
   "source": [
    "### 1.2 NCC (Normalized Cross-Correlation) Matching [2.5 pts]\n",
    "NCC = $\\sum_{x,y}\\tilde{W_1} (x,y)\\cdot \\tilde{W_2} (x,y)$ where $\\tilde{W} = \\frac{W - \\overline{W}}{\\sqrt{\\sum_{x,y}(W(x,y) - \\overline{W})^2}}$ is a mean-shifted and normalized version of the window and $\\overline{W}$ is the mean pixel value in the window W."
   ]
  },
  {
   "cell_type": "code",
   "execution_count": null,
   "metadata": {},
   "outputs": [],
   "source": [
    "def nccMatch(img1, img2, c1, c2, R):\n",
    "    \"\"\"Compute NCC given two windows.\n",
    "\n",
    "    Args:\n",
    "        img1: Image 1.\n",
    "        img2: Image 2.\n",
    "        c1: Center (in image coordinate) of the window in image 1.\n",
    "        c2: Center (in image coordinate) of the window in image 2.\n",
    "        R: R is the radius of the patch, 2 * R + 1 is the window size\n",
    "\n",
    "    Returns:\n",
    "        matching_score: NCC matching score for two input windows.\n",
    "\n",
    "    \"\"\"\n",
    "    #-------------------------------------#\n",
    "    #         WRITE YOUR CODE HERE        #\n",
    "    #-------------------------------------#\n",
    "    return matching_score\n",
    "\n",
    "# Here is the code for you to test your implementation\n",
    "img1 = np.array([[1, 2, 3, 4], [4, 5, 6, 8], [7, 8, 9, 4]])\n",
    "img2 = np.array([[1, 2, 1, 3], [6, 5, 4, 4], [9, 8, 7, 3]])\n",
    "print(nccMatch(img1, img2, np.array([1, 1]), np.array([1, 1]), 1))\n",
    "# should print 0.8546\n",
    "print(nccMatch(img1, img2, np.array([2, 1]), np.array([2, 1]), 1))\n",
    "# should print 0.8457\n",
    "print(nccMatch(img1, img2, np.array([1, 1]), np.array([2, 1]), 1))\n",
    "# should print 0.6258"
   ]
  },
  {
   "cell_type": "markdown",
   "metadata": {},
   "source": [
    "## 2. Calculate disparity for stereo pair images [5pts]\n",
    "Now you have to implement $\\textit{stereoMatching}$ to calculate disparity from given two sets of stereo pair images:\n",
    "\n",
    "|view 0 | view 1|\n",
    "|:---:|:---:|\n",
    "<img src=\"im0.jpg\" width=\"300\"> |<img src=\"im1.jpg\" width=\"300\">|\n",
    "\n",
    "|view 0 | view 1|\n",
    "|:---:|:---:|\n",
    "|<img src=\"motor0.png\" width=\"300\">| <img src=\"motor1.png\" width=\"300\">|\n",
    "\n",
    "You can use the plane sweep algorithm mentioned in class."
   ]
  },
  {
   "cell_type": "code",
   "execution_count": null,
   "metadata": {},
   "outputs": [],
   "source": [
    "def loadImage(imgName, imSize):\n",
    "    # load image, resize and make RGB to grayscale\n",
    "    img = cv2.imread(imgName)\n",
    "    img = cv2.resize(img, (imSize[1], imSize[0]))\n",
    "    img = cv2.cvtColor(img,cv2.COLOR_BGR2GRAY)\n",
    "    return img\n",
    "\n",
    "def stereoMatching(imgPathView0, imgPathView1, imSize, windowSize, maxDisparity, metric):\n",
    "    ''' Stereo Matching Algorithm\n",
    "    \n",
    "    Args: \n",
    "        imgPathView0: image path for view0\n",
    "        imgPathView1: image path for view1\n",
    "        imSize: resize img to this size\n",
    "        windowSize: window size for SSD/NCC matching\n",
    "        maxDisparity: maximum disparity we want to search\n",
    "        metric: 'ssd' or 'ncc'\n",
    "        \n",
    "    Return:\n",
    "        disparity: disparity map\n",
    "    '''\n",
    "    imgV0 = loadImage(imgPathView0, imSize)\n",
    "    imgV1 = loadImage(imgPathView1, imSize)\n",
    "    h, w = imgV0.shape\n",
    "    \n",
    "    #-------------------------------------#\n",
    "    #         WRITE YOUR CODE HERE        #\n",
    "    #-------------------------------------#\n",
    "                        \n",
    "    return disparity\n",
    "\n"
   ]
  },
  {
   "cell_type": "markdown",
   "metadata": {},
   "source": [
    "## 3. Visualize disparity map [5pts]\n",
    "Now it's time to visualize the disparity result of stereo matching. You have to show your results with different parameters, i.e., window sizes: 3, 7, 11 and matching metrics: SSD and NCC. Finally, you have to show the results for each pair of parameters. For example, you may organize them in the following format:\n",
    "\n",
    "![Result](result1.png \"Disparity\")\n",
    "\n",
    "![Result](result2.png \"Disparity\")"
   ]
  },
  {
   "cell_type": "code",
   "execution_count": null,
   "metadata": {},
   "outputs": [],
   "source": [
    "img1PathView0 = 'im0.jpg'\n",
    "img1PathView1 = 'im1.jpg'\n",
    "img2PathView0 = 'motor0.png'\n",
    "img2PathView1 = 'motor1.png'\n",
    "\n",
    "imSize1 = 156, 224 # resize img1 to this size\n",
    "imSize2 = 150, 222 # resize img2 to this size\n",
    "maxDisparity = 30\n",
    "\n",
    "#-------------------------------------#\n",
    "#         WRITE YOUR CODE HERE        #\n",
    "#-------------------------------------#"
   ]
  },
  {
   "cell_type": "code",
   "execution_count": null,
   "metadata": {},
   "outputs": [],
   "source": []
  }
 ],
 "metadata": {
  "kernelspec": {
   "display_name": "Python 3",
   "language": "python",
   "name": "python3"
  },
  "language_info": {
   "codemirror_mode": {
    "name": "ipython",
    "version": 3
   },
   "file_extension": ".py",
   "mimetype": "text/x-python",
   "name": "python",
   "nbconvert_exporter": "python",
   "pygments_lexer": "ipython3",
   "version": "3.7.0"
  }
 },
 "nbformat": 4,
 "nbformat_minor": 2
}
